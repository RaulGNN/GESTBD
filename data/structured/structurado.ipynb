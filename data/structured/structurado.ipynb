{
 "cells": [
  {
   "metadata": {},
   "cell_type": "markdown",
   "source": "# Import de librerias",
   "id": "72efc2ab19b60b5d"
  },
  {
   "metadata": {
    "ExecuteTime": {
     "end_time": "2024-10-19T18:53:02.634120Z",
     "start_time": "2024-10-19T18:53:02.611188Z"
    }
   },
   "cell_type": "code",
   "source": [
    "import http.client\n",
    "import json\n",
    "import pandas as pd\n",
    "from dotenv import load_dotenv\n",
    "import os"
   ],
   "id": "c3e9ada3d1db420f",
   "outputs": [],
   "execution_count": 47
  },
  {
   "metadata": {},
   "cell_type": "markdown",
   "source": "# Conexion con la API",
   "id": "4360c529bd9ca1a9"
  },
  {
   "metadata": {
    "ExecuteTime": {
     "end_time": "2024-10-19T18:53:53.589255Z",
     "start_time": "2024-10-19T18:53:53.560521Z"
    }
   },
   "cell_type": "code",
   "source": [
    "# Carga las variables de entorno\n",
    "load_dotenv()\n",
    "\n",
    "# Obtén la API key\n",
    "api_key = os.getenv('API_KEY')\n",
    "\n",
    "conn = http.client.HTTPSConnection(\"idealista7.p.rapidapi.com\")\n",
    "\n",
    "headers = {\n",
    "    'x-rapidapi-key': api_key,\n",
    "    'x-rapidapi-host': \"idealista7.p.rapidapi.com\"\n",
    "}"
   ],
   "id": "69b23acf71821281",
   "outputs": [],
   "execution_count": 50
  },
  {
   "metadata": {
    "ExecuteTime": {
     "end_time": "2024-10-19T18:53:55.452698Z",
     "start_time": "2024-10-19T18:53:55.447513Z"
    }
   },
   "cell_type": "code",
   "source": "print(api_key)",
   "id": "d897f3824723dfe4",
   "outputs": [
    {
     "name": "stdout",
     "output_type": "stream",
     "text": [
      "711a0e1079msh680a1c4987a2fe5p1621eejsnce62b684fc16\n"
     ]
    }
   ],
   "execution_count": 51
  },
  {
   "metadata": {},
   "cell_type": "markdown",
   "source": "# Carga de datos",
   "id": "49a8d47e449dd3c5"
  },
  {
   "metadata": {
    "ExecuteTime": {
     "end_time": "2024-10-19T18:55:28.130108Z",
     "start_time": "2024-10-19T18:54:24.669711Z"
    }
   },
   "cell_type": "code",
   "source": [
    "df_vivienda = pd.DataFrame()\n",
    "df_localizacion = pd.DataFrame()\n",
    "\n",
    "for i in range(1,40):\n",
    "    conn.request(\"GET\", f\"/listhomes?order=relevance&operation=sale&locationId=0-EU-ES-28-07-001-079&locationName=Madrid&numPage={i}&maxItems=40&location=es&locale=en\", headers=headers)\n",
    "\n",
    "    res = conn.getresponse()\n",
    "    json_data = res.read()\n",
    "\n",
    "    if json_data:\n",
    "        try:\n",
    "            data_dict = json.loads(json_data)\n",
    "        except json.JSONDecodeError as e:\n",
    "            print(\"Error al decodificar JSON:\", e)\n",
    "    else:\n",
    "        print(\"La respuesta está vacía.\")\n",
    "        break\n",
    "        \n",
    "    \n",
    "    # Navegamos sobre el JSON\n",
    "    if 'elementList' in data_dict:  # Reemplaza 'listings' con la clave correcta si es diferente\n",
    "        data_list = data_dict['elementList']  # Accede a la lista de propiedades\n",
    "    else:\n",
    "        print(\"La clave 'listings' no se encuentra en el JSON.\")\n",
    "        data_list = []\n",
    "\n",
    "    # Extraer solo los campos seleccionados y convertir en un DataFrame\n",
    "    selected_fields = [\n",
    "        {\n",
    "            \"propertyCode\": item.get(\"propertyCode\"),\n",
    "            \"url\": item.get(\"url\"),\n",
    "            \"address\": item.get(\"address\"),\n",
    "            \"size\": item.get(\"size\"),\n",
    "            \"floor\": item.get(\"floor\"),\n",
    "            \"province\": item.get(\"province\"),\n",
    "            \"municipality\": item.get(\"municipality\"),\n",
    "            \"district\": item.get(\"district\"),\n",
    "            \"price\": item.get(\"price\"),\n",
    "            \"rooms\": item.get(\"rooms\"),\n",
    "            \"hasLift\": item.get(\"hasLift\"),\n",
    "            \"hasParking\": item.get(\"parkingSpace\", {}).get(\"hasParkingSpace\"),\n",
    "            \"hasTerrace\": item.get(\"features\", {}).get(\"hasTerrace\"),\n",
    "            \"hasSwimmingPool\": item.get(\"features\", {}).get(\"hasSwimmingPool\"),\n",
    "            \"hasAirConditioning\": item.get(\"features\", {}).get(\"hasAirConditioning\"),\n",
    "            \"hasGarden\": item.get(\"features\", {}).get(\"hasGarden\"),\n",
    "            \"bathrooms\": item.get(\"bathrooms\"),\n",
    "            \"latitude\": item.get(\"latitude\"),\n",
    "            \"longitude\": item.get(\"longitude\")\n",
    "        }\n",
    "        for item in data_list\n",
    "    ]\n",
    "    \n",
    "    # Convertir la lista de diccionarios en un DataFrame\n",
    "    df = pd.DataFrame(selected_fields)\n",
    "    df_vivienda_aux = df.drop(['latitude', 'longitude'], axis=1)\n",
    "    df_localizacion_aux = df[['propertyCode','latitude', 'longitude']]\n",
    "\n",
    "    df_vivienda = pd.concat([df_vivienda,df_vivienda_aux], axis=0)\n",
    "    df_localizacion = pd.concat([df_localizacion, df_localizacion_aux], axis=0)\n",
    "        "
   ],
   "id": "fbc64073a55e7480",
   "outputs": [
    {
     "name": "stdout",
     "output_type": "stream",
     "text": [
      "Error al decodificar JSON: Expecting value: line 1 column 1 (char 0)\n",
      "Error al decodificar JSON: Expecting value: line 1 column 1 (char 0)\n",
      "Error al decodificar JSON: Expecting value: line 1 column 1 (char 0)\n",
      "La clave 'listings' no se encuentra en el JSON.\n"
     ]
    },
    {
     "ename": "KeyError",
     "evalue": "\"['latitude', 'longitude'] not found in axis\"",
     "output_type": "error",
     "traceback": [
      "\u001B[1;31m---------------------------------------------------------------------------\u001B[0m",
      "\u001B[1;31mKeyError\u001B[0m                                  Traceback (most recent call last)",
      "Cell \u001B[1;32mIn[52], line 55\u001B[0m\n\u001B[0;32m     53\u001B[0m \u001B[38;5;66;03m# Convertir la lista de diccionarios en un DataFrame\u001B[39;00m\n\u001B[0;32m     54\u001B[0m df \u001B[38;5;241m=\u001B[39m pd\u001B[38;5;241m.\u001B[39mDataFrame(selected_fields)\n\u001B[1;32m---> 55\u001B[0m df_vivienda_aux \u001B[38;5;241m=\u001B[39m df\u001B[38;5;241m.\u001B[39mdrop([\u001B[38;5;124m'\u001B[39m\u001B[38;5;124mlatitude\u001B[39m\u001B[38;5;124m'\u001B[39m, \u001B[38;5;124m'\u001B[39m\u001B[38;5;124mlongitude\u001B[39m\u001B[38;5;124m'\u001B[39m], axis\u001B[38;5;241m=\u001B[39m\u001B[38;5;241m1\u001B[39m)\n\u001B[0;32m     56\u001B[0m df_localizacion_aux \u001B[38;5;241m=\u001B[39m df[[\u001B[38;5;124m'\u001B[39m\u001B[38;5;124mpropertyCode\u001B[39m\u001B[38;5;124m'\u001B[39m,\u001B[38;5;124m'\u001B[39m\u001B[38;5;124mlatitude\u001B[39m\u001B[38;5;124m'\u001B[39m, \u001B[38;5;124m'\u001B[39m\u001B[38;5;124mlongitude\u001B[39m\u001B[38;5;124m'\u001B[39m]]\n\u001B[0;32m     58\u001B[0m df_vivienda \u001B[38;5;241m=\u001B[39m pd\u001B[38;5;241m.\u001B[39mconcat([df_vivienda,df_vivienda_aux], axis\u001B[38;5;241m=\u001B[39m\u001B[38;5;241m0\u001B[39m)\n",
      "File \u001B[1;32mC:\\ProgramData\\anaconda3\\Lib\\site-packages\\pandas\\core\\frame.py:5581\u001B[0m, in \u001B[0;36mDataFrame.drop\u001B[1;34m(self, labels, axis, index, columns, level, inplace, errors)\u001B[0m\n\u001B[0;32m   5433\u001B[0m \u001B[38;5;28;01mdef\u001B[39;00m \u001B[38;5;21mdrop\u001B[39m(\n\u001B[0;32m   5434\u001B[0m     \u001B[38;5;28mself\u001B[39m,\n\u001B[0;32m   5435\u001B[0m     labels: IndexLabel \u001B[38;5;241m|\u001B[39m \u001B[38;5;28;01mNone\u001B[39;00m \u001B[38;5;241m=\u001B[39m \u001B[38;5;28;01mNone\u001B[39;00m,\n\u001B[1;32m   (...)\u001B[0m\n\u001B[0;32m   5442\u001B[0m     errors: IgnoreRaise \u001B[38;5;241m=\u001B[39m \u001B[38;5;124m\"\u001B[39m\u001B[38;5;124mraise\u001B[39m\u001B[38;5;124m\"\u001B[39m,\n\u001B[0;32m   5443\u001B[0m ) \u001B[38;5;241m-\u001B[39m\u001B[38;5;241m>\u001B[39m DataFrame \u001B[38;5;241m|\u001B[39m \u001B[38;5;28;01mNone\u001B[39;00m:\n\u001B[0;32m   5444\u001B[0m \u001B[38;5;250m    \u001B[39m\u001B[38;5;124;03m\"\"\"\u001B[39;00m\n\u001B[0;32m   5445\u001B[0m \u001B[38;5;124;03m    Drop specified labels from rows or columns.\u001B[39;00m\n\u001B[0;32m   5446\u001B[0m \n\u001B[1;32m   (...)\u001B[0m\n\u001B[0;32m   5579\u001B[0m \u001B[38;5;124;03m            weight  1.0     0.8\u001B[39;00m\n\u001B[0;32m   5580\u001B[0m \u001B[38;5;124;03m    \"\"\"\u001B[39;00m\n\u001B[1;32m-> 5581\u001B[0m     \u001B[38;5;28;01mreturn\u001B[39;00m \u001B[38;5;28msuper\u001B[39m()\u001B[38;5;241m.\u001B[39mdrop(\n\u001B[0;32m   5582\u001B[0m         labels\u001B[38;5;241m=\u001B[39mlabels,\n\u001B[0;32m   5583\u001B[0m         axis\u001B[38;5;241m=\u001B[39maxis,\n\u001B[0;32m   5584\u001B[0m         index\u001B[38;5;241m=\u001B[39mindex,\n\u001B[0;32m   5585\u001B[0m         columns\u001B[38;5;241m=\u001B[39mcolumns,\n\u001B[0;32m   5586\u001B[0m         level\u001B[38;5;241m=\u001B[39mlevel,\n\u001B[0;32m   5587\u001B[0m         inplace\u001B[38;5;241m=\u001B[39minplace,\n\u001B[0;32m   5588\u001B[0m         errors\u001B[38;5;241m=\u001B[39merrors,\n\u001B[0;32m   5589\u001B[0m     )\n",
      "File \u001B[1;32mC:\\ProgramData\\anaconda3\\Lib\\site-packages\\pandas\\core\\generic.py:4788\u001B[0m, in \u001B[0;36mNDFrame.drop\u001B[1;34m(self, labels, axis, index, columns, level, inplace, errors)\u001B[0m\n\u001B[0;32m   4786\u001B[0m \u001B[38;5;28;01mfor\u001B[39;00m axis, labels \u001B[38;5;129;01min\u001B[39;00m axes\u001B[38;5;241m.\u001B[39mitems():\n\u001B[0;32m   4787\u001B[0m     \u001B[38;5;28;01mif\u001B[39;00m labels \u001B[38;5;129;01mis\u001B[39;00m \u001B[38;5;129;01mnot\u001B[39;00m \u001B[38;5;28;01mNone\u001B[39;00m:\n\u001B[1;32m-> 4788\u001B[0m         obj \u001B[38;5;241m=\u001B[39m obj\u001B[38;5;241m.\u001B[39m_drop_axis(labels, axis, level\u001B[38;5;241m=\u001B[39mlevel, errors\u001B[38;5;241m=\u001B[39merrors)\n\u001B[0;32m   4790\u001B[0m \u001B[38;5;28;01mif\u001B[39;00m inplace:\n\u001B[0;32m   4791\u001B[0m     \u001B[38;5;28mself\u001B[39m\u001B[38;5;241m.\u001B[39m_update_inplace(obj)\n",
      "File \u001B[1;32mC:\\ProgramData\\anaconda3\\Lib\\site-packages\\pandas\\core\\generic.py:4830\u001B[0m, in \u001B[0;36mNDFrame._drop_axis\u001B[1;34m(self, labels, axis, level, errors, only_slice)\u001B[0m\n\u001B[0;32m   4828\u001B[0m         new_axis \u001B[38;5;241m=\u001B[39m axis\u001B[38;5;241m.\u001B[39mdrop(labels, level\u001B[38;5;241m=\u001B[39mlevel, errors\u001B[38;5;241m=\u001B[39merrors)\n\u001B[0;32m   4829\u001B[0m     \u001B[38;5;28;01melse\u001B[39;00m:\n\u001B[1;32m-> 4830\u001B[0m         new_axis \u001B[38;5;241m=\u001B[39m axis\u001B[38;5;241m.\u001B[39mdrop(labels, errors\u001B[38;5;241m=\u001B[39merrors)\n\u001B[0;32m   4831\u001B[0m     indexer \u001B[38;5;241m=\u001B[39m axis\u001B[38;5;241m.\u001B[39mget_indexer(new_axis)\n\u001B[0;32m   4833\u001B[0m \u001B[38;5;66;03m# Case for non-unique axis\u001B[39;00m\n\u001B[0;32m   4834\u001B[0m \u001B[38;5;28;01melse\u001B[39;00m:\n",
      "File \u001B[1;32mC:\\ProgramData\\anaconda3\\Lib\\site-packages\\pandas\\core\\indexes\\base.py:7070\u001B[0m, in \u001B[0;36mIndex.drop\u001B[1;34m(self, labels, errors)\u001B[0m\n\u001B[0;32m   7068\u001B[0m \u001B[38;5;28;01mif\u001B[39;00m mask\u001B[38;5;241m.\u001B[39many():\n\u001B[0;32m   7069\u001B[0m     \u001B[38;5;28;01mif\u001B[39;00m errors \u001B[38;5;241m!=\u001B[39m \u001B[38;5;124m\"\u001B[39m\u001B[38;5;124mignore\u001B[39m\u001B[38;5;124m\"\u001B[39m:\n\u001B[1;32m-> 7070\u001B[0m         \u001B[38;5;28;01mraise\u001B[39;00m \u001B[38;5;167;01mKeyError\u001B[39;00m(\u001B[38;5;124mf\u001B[39m\u001B[38;5;124m\"\u001B[39m\u001B[38;5;132;01m{\u001B[39;00mlabels[mask]\u001B[38;5;241m.\u001B[39mtolist()\u001B[38;5;132;01m}\u001B[39;00m\u001B[38;5;124m not found in axis\u001B[39m\u001B[38;5;124m\"\u001B[39m)\n\u001B[0;32m   7071\u001B[0m     indexer \u001B[38;5;241m=\u001B[39m indexer[\u001B[38;5;241m~\u001B[39mmask]\n\u001B[0;32m   7072\u001B[0m \u001B[38;5;28;01mreturn\u001B[39;00m \u001B[38;5;28mself\u001B[39m\u001B[38;5;241m.\u001B[39mdelete(indexer)\n",
      "\u001B[1;31mKeyError\u001B[0m: \"['latitude', 'longitude'] not found in axis\""
     ]
    }
   ],
   "execution_count": 52
  },
  {
   "metadata": {
    "ExecuteTime": {
     "end_time": "2024-10-19T18:55:37.623091Z",
     "start_time": "2024-10-19T18:55:37.613786Z"
    }
   },
   "cell_type": "code",
   "source": [
    "csv_vivienda = df_vivienda.to_csv('../structured/vivienda.csv', index=False)\n",
    "csv_localizacion = df_localizacion.to_csv('../structured/location.csv', index=False)"
   ],
   "id": "f95ffb085cb053",
   "outputs": [],
   "execution_count": 54
  },
  {
   "metadata": {
    "ExecuteTime": {
     "end_time": "2024-10-19T18:55:32.889608Z",
     "start_time": "2024-10-19T18:55:32.872536Z"
    }
   },
   "cell_type": "code",
   "source": "df_vivienda.describe()",
   "id": "6e1bee45fbc934dd",
   "outputs": [
    {
     "data": {
      "text/plain": [
       "              size         price       rooms   bathrooms\n",
       "count   280.000000  2.800000e+02  280.000000  280.000000\n",
       "mean    299.782143  1.956301e+06    3.928571    3.625000\n",
       "std     282.223263  1.412405e+06    1.737806    2.005034\n",
       "min      37.000000  1.749000e+05    0.000000    1.000000\n",
       "25%     119.750000  8.990000e+05    3.000000    2.000000\n",
       "50%     224.500000  1.637500e+06    4.000000    3.000000\n",
       "75%     359.250000  2.563750e+06    5.000000    5.000000\n",
       "max    1768.000000  9.000000e+06    9.000000   13.000000"
      ],
      "text/html": [
       "<div>\n",
       "<style scoped>\n",
       "    .dataframe tbody tr th:only-of-type {\n",
       "        vertical-align: middle;\n",
       "    }\n",
       "\n",
       "    .dataframe tbody tr th {\n",
       "        vertical-align: top;\n",
       "    }\n",
       "\n",
       "    .dataframe thead th {\n",
       "        text-align: right;\n",
       "    }\n",
       "</style>\n",
       "<table border=\"1\" class=\"dataframe\">\n",
       "  <thead>\n",
       "    <tr style=\"text-align: right;\">\n",
       "      <th></th>\n",
       "      <th>size</th>\n",
       "      <th>price</th>\n",
       "      <th>rooms</th>\n",
       "      <th>bathrooms</th>\n",
       "    </tr>\n",
       "  </thead>\n",
       "  <tbody>\n",
       "    <tr>\n",
       "      <th>count</th>\n",
       "      <td>280.000000</td>\n",
       "      <td>2.800000e+02</td>\n",
       "      <td>280.000000</td>\n",
       "      <td>280.000000</td>\n",
       "    </tr>\n",
       "    <tr>\n",
       "      <th>mean</th>\n",
       "      <td>299.782143</td>\n",
       "      <td>1.956301e+06</td>\n",
       "      <td>3.928571</td>\n",
       "      <td>3.625000</td>\n",
       "    </tr>\n",
       "    <tr>\n",
       "      <th>std</th>\n",
       "      <td>282.223263</td>\n",
       "      <td>1.412405e+06</td>\n",
       "      <td>1.737806</td>\n",
       "      <td>2.005034</td>\n",
       "    </tr>\n",
       "    <tr>\n",
       "      <th>min</th>\n",
       "      <td>37.000000</td>\n",
       "      <td>1.749000e+05</td>\n",
       "      <td>0.000000</td>\n",
       "      <td>1.000000</td>\n",
       "    </tr>\n",
       "    <tr>\n",
       "      <th>25%</th>\n",
       "      <td>119.750000</td>\n",
       "      <td>8.990000e+05</td>\n",
       "      <td>3.000000</td>\n",
       "      <td>2.000000</td>\n",
       "    </tr>\n",
       "    <tr>\n",
       "      <th>50%</th>\n",
       "      <td>224.500000</td>\n",
       "      <td>1.637500e+06</td>\n",
       "      <td>4.000000</td>\n",
       "      <td>3.000000</td>\n",
       "    </tr>\n",
       "    <tr>\n",
       "      <th>75%</th>\n",
       "      <td>359.250000</td>\n",
       "      <td>2.563750e+06</td>\n",
       "      <td>5.000000</td>\n",
       "      <td>5.000000</td>\n",
       "    </tr>\n",
       "    <tr>\n",
       "      <th>max</th>\n",
       "      <td>1768.000000</td>\n",
       "      <td>9.000000e+06</td>\n",
       "      <td>9.000000</td>\n",
       "      <td>13.000000</td>\n",
       "    </tr>\n",
       "  </tbody>\n",
       "</table>\n",
       "</div>"
      ]
     },
     "execution_count": 53,
     "metadata": {},
     "output_type": "execute_result"
    }
   ],
   "execution_count": 53
  }
 ],
 "metadata": {
  "kernelspec": {
   "display_name": "Python 3",
   "language": "python",
   "name": "python3"
  },
  "language_info": {
   "codemirror_mode": {
    "name": "ipython",
    "version": 2
   },
   "file_extension": ".py",
   "mimetype": "text/x-python",
   "name": "python",
   "nbconvert_exporter": "python",
   "pygments_lexer": "ipython2",
   "version": "2.7.6"
  }
 },
 "nbformat": 4,
 "nbformat_minor": 5
}
