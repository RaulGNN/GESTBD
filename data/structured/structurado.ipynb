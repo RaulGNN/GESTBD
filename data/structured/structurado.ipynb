{
 "cells": [
  {
   "metadata": {},
   "cell_type": "markdown",
   "source": "# Import de librerias",
   "id": "72efc2ab19b60b5d"
  },
  {
   "metadata": {
    "ExecuteTime": {
     "end_time": "2024-10-19T18:00:48.310835Z",
     "start_time": "2024-10-19T18:00:48.305837Z"
    }
   },
   "cell_type": "code",
   "source": [
    "import http.client\n",
    "import json\n",
    "import pandas as pd"
   ],
   "id": "c3e9ada3d1db420f",
   "outputs": [],
   "execution_count": 39
  },
  {
   "metadata": {},
   "cell_type": "markdown",
   "source": "# Conexion con la API",
   "id": "4360c529bd9ca1a9"
  },
  {
   "metadata": {
    "ExecuteTime": {
     "end_time": "2024-10-19T18:00:49.617187Z",
     "start_time": "2024-10-19T18:00:49.589633Z"
    }
   },
   "cell_type": "code",
   "source": [
    "conn = http.client.HTTPSConnection(\"idealista7.p.rapidapi.com\")\n",
    "\n",
    "headers = {\n",
    "    'x-rapidapi-key': \"711a0e1079msh680a1c4987a2fe5p1621eejsnce62b684fc16\",\n",
    "    'x-rapidapi-host': \"idealista7.p.rapidapi.com\"\n",
    "}"
   ],
   "id": "69b23acf71821281",
   "outputs": [],
   "execution_count": 40
  },
  {
   "metadata": {},
   "cell_type": "markdown",
   "source": "# Carga de datos",
   "id": "49a8d47e449dd3c5"
  },
  {
   "metadata": {
    "ExecuteTime": {
     "end_time": "2024-10-19T18:08:42.560125Z",
     "start_time": "2024-10-19T18:07:37.614646Z"
    }
   },
   "cell_type": "code",
   "source": [
    "df_vivienda = pd.DataFrame()\n",
    "df_localizacion = pd.DataFrame()\n",
    "\n",
    "for i in range(1,40):\n",
    "    conn.request(\"GET\", f\"/listhomes?order=relevance&operation=sale&locationId=0-EU-ES-28-07-001-079&locationName=Madrid&numPage={i}&maxItems=40&location=es&locale=en\", headers=headers)\n",
    "\n",
    "    res = conn.getresponse()\n",
    "    json_data = res.read()\n",
    "\n",
    "    if json_data:\n",
    "        try:\n",
    "            data_dict = json.loads(json_data)\n",
    "        except json.JSONDecodeError as e:\n",
    "            print(\"Error al decodificar JSON:\", e)\n",
    "    else:\n",
    "        print(\"La respuesta está vacía.\")\n",
    "        break\n",
    "        \n",
    "    \n",
    "    # Navegamos sobre el JSON\n",
    "    if 'elementList' in data_dict:  # Reemplaza 'listings' con la clave correcta si es diferente\n",
    "        data_list = data_dict['elementList']  # Accede a la lista de propiedades\n",
    "    else:\n",
    "        print(\"La clave 'listings' no se encuentra en el JSON.\")\n",
    "        data_list = []\n",
    "\n",
    "    # Extraer solo los campos seleccionados y convertir en un DataFrame\n",
    "    selected_fields = [\n",
    "        {\n",
    "            \"propertyCode\": item.get(\"propertyCode\"),\n",
    "            \"url\": item.get(\"url\"),\n",
    "            \"address\": item.get(\"address\"),\n",
    "            \"size\": item.get(\"size\"),\n",
    "            \"floor\": item.get(\"floor\"),\n",
    "            \"province\": item.get(\"province\"),\n",
    "            \"municipality\": item.get(\"municipality\"),\n",
    "            \"district\": item.get(\"district\"),\n",
    "            \"price\": item.get(\"price\"),\n",
    "            \"rooms\": item.get(\"rooms\"),\n",
    "            \"hasLift\": item.get(\"hasLift\"),\n",
    "            \"hasParking\": item.get(\"parkingSpace\", {}).get(\"hasParkingSpace\"),\n",
    "            \"hasTerrace\": item.get(\"features\", {}).get(\"hasTerrace\"),\n",
    "            \"hasSwimmingPool\": item.get(\"features\", {}).get(\"hasSwimmingPool\"),\n",
    "            \"hasAirConditioning\": item.get(\"features\", {}).get(\"hasAirConditioning\"),\n",
    "            \"hasGarden\": item.get(\"features\", {}).get(\"hasGarden\"),\n",
    "            \"bathrooms\": item.get(\"bathrooms\"),\n",
    "            \"latitude\": item.get(\"latitude\"),\n",
    "            \"longitude\": item.get(\"longitude\")\n",
    "        }\n",
    "        for item in data_list\n",
    "    ]\n",
    "    \n",
    "    # Convertir la lista de diccionarios en un DataFrame\n",
    "    df = pd.DataFrame(selected_fields)\n",
    "    df_vivienda_aux = df.drop(['latitude', 'longitude'], axis=1)\n",
    "    df_localizacion_aux = df[['propertyCode','latitude', 'longitude']]\n",
    "\n",
    "    df_vivienda = pd.concat([df_vivienda,df_vivienda_aux], axis=0)\n",
    "    df_localizacion = pd.concat([df_localizacion, df_localizacion_aux], axis=0)\n",
    "        "
   ],
   "id": "fbc64073a55e7480",
   "outputs": [
    {
     "name": "stdout",
     "output_type": "stream",
     "text": [
      "Error al decodificar JSON: Expecting value: line 1 column 1 (char 0)\n"
     ]
    },
    {
     "ename": "KeyboardInterrupt",
     "evalue": "",
     "output_type": "error",
     "traceback": [
      "\u001B[1;31m---------------------------------------------------------------------------\u001B[0m",
      "\u001B[1;31mKeyboardInterrupt\u001B[0m                         Traceback (most recent call last)",
      "Cell \u001B[1;32mIn[43], line 7\u001B[0m\n\u001B[0;32m      4\u001B[0m \u001B[38;5;28;01mfor\u001B[39;00m i \u001B[38;5;129;01min\u001B[39;00m \u001B[38;5;28mrange\u001B[39m(\u001B[38;5;241m1\u001B[39m,\u001B[38;5;241m40\u001B[39m):\n\u001B[0;32m      5\u001B[0m     conn\u001B[38;5;241m.\u001B[39mrequest(\u001B[38;5;124m\"\u001B[39m\u001B[38;5;124mGET\u001B[39m\u001B[38;5;124m\"\u001B[39m, \u001B[38;5;124mf\u001B[39m\u001B[38;5;124m\"\u001B[39m\u001B[38;5;124m/listhomes?order=relevance&operation=sale&locationId=0-EU-ES-28-07-001-079&locationName=Madrid&numPage=\u001B[39m\u001B[38;5;132;01m{\u001B[39;00mi\u001B[38;5;132;01m}\u001B[39;00m\u001B[38;5;124m&maxItems=40&location=es&locale=en\u001B[39m\u001B[38;5;124m\"\u001B[39m, headers\u001B[38;5;241m=\u001B[39mheaders)\n\u001B[1;32m----> 7\u001B[0m     res \u001B[38;5;241m=\u001B[39m conn\u001B[38;5;241m.\u001B[39mgetresponse()\n\u001B[0;32m      8\u001B[0m     json_data \u001B[38;5;241m=\u001B[39m res\u001B[38;5;241m.\u001B[39mread()\n\u001B[0;32m     10\u001B[0m     \u001B[38;5;28;01mif\u001B[39;00m json_data:\n",
      "File \u001B[1;32mC:\\ProgramData\\anaconda3\\Lib\\http\\client.py:1428\u001B[0m, in \u001B[0;36mHTTPConnection.getresponse\u001B[1;34m(self)\u001B[0m\n\u001B[0;32m   1426\u001B[0m \u001B[38;5;28;01mtry\u001B[39;00m:\n\u001B[0;32m   1427\u001B[0m     \u001B[38;5;28;01mtry\u001B[39;00m:\n\u001B[1;32m-> 1428\u001B[0m         response\u001B[38;5;241m.\u001B[39mbegin()\n\u001B[0;32m   1429\u001B[0m     \u001B[38;5;28;01mexcept\u001B[39;00m \u001B[38;5;167;01mConnectionError\u001B[39;00m:\n\u001B[0;32m   1430\u001B[0m         \u001B[38;5;28mself\u001B[39m\u001B[38;5;241m.\u001B[39mclose()\n",
      "File \u001B[1;32mC:\\ProgramData\\anaconda3\\Lib\\http\\client.py:331\u001B[0m, in \u001B[0;36mHTTPResponse.begin\u001B[1;34m(self)\u001B[0m\n\u001B[0;32m    329\u001B[0m \u001B[38;5;66;03m# read until we get a non-100 response\u001B[39;00m\n\u001B[0;32m    330\u001B[0m \u001B[38;5;28;01mwhile\u001B[39;00m \u001B[38;5;28;01mTrue\u001B[39;00m:\n\u001B[1;32m--> 331\u001B[0m     version, status, reason \u001B[38;5;241m=\u001B[39m \u001B[38;5;28mself\u001B[39m\u001B[38;5;241m.\u001B[39m_read_status()\n\u001B[0;32m    332\u001B[0m     \u001B[38;5;28;01mif\u001B[39;00m status \u001B[38;5;241m!=\u001B[39m CONTINUE:\n\u001B[0;32m    333\u001B[0m         \u001B[38;5;28;01mbreak\u001B[39;00m\n",
      "File \u001B[1;32mC:\\ProgramData\\anaconda3\\Lib\\http\\client.py:292\u001B[0m, in \u001B[0;36mHTTPResponse._read_status\u001B[1;34m(self)\u001B[0m\n\u001B[0;32m    291\u001B[0m \u001B[38;5;28;01mdef\u001B[39;00m \u001B[38;5;21m_read_status\u001B[39m(\u001B[38;5;28mself\u001B[39m):\n\u001B[1;32m--> 292\u001B[0m     line \u001B[38;5;241m=\u001B[39m \u001B[38;5;28mstr\u001B[39m(\u001B[38;5;28mself\u001B[39m\u001B[38;5;241m.\u001B[39mfp\u001B[38;5;241m.\u001B[39mreadline(_MAXLINE \u001B[38;5;241m+\u001B[39m \u001B[38;5;241m1\u001B[39m), \u001B[38;5;124m\"\u001B[39m\u001B[38;5;124miso-8859-1\u001B[39m\u001B[38;5;124m\"\u001B[39m)\n\u001B[0;32m    293\u001B[0m     \u001B[38;5;28;01mif\u001B[39;00m \u001B[38;5;28mlen\u001B[39m(line) \u001B[38;5;241m>\u001B[39m _MAXLINE:\n\u001B[0;32m    294\u001B[0m         \u001B[38;5;28;01mraise\u001B[39;00m LineTooLong(\u001B[38;5;124m\"\u001B[39m\u001B[38;5;124mstatus line\u001B[39m\u001B[38;5;124m\"\u001B[39m)\n",
      "File \u001B[1;32mC:\\ProgramData\\anaconda3\\Lib\\socket.py:708\u001B[0m, in \u001B[0;36mSocketIO.readinto\u001B[1;34m(self, b)\u001B[0m\n\u001B[0;32m    706\u001B[0m \u001B[38;5;28;01mwhile\u001B[39;00m \u001B[38;5;28;01mTrue\u001B[39;00m:\n\u001B[0;32m    707\u001B[0m     \u001B[38;5;28;01mtry\u001B[39;00m:\n\u001B[1;32m--> 708\u001B[0m         \u001B[38;5;28;01mreturn\u001B[39;00m \u001B[38;5;28mself\u001B[39m\u001B[38;5;241m.\u001B[39m_sock\u001B[38;5;241m.\u001B[39mrecv_into(b)\n\u001B[0;32m    709\u001B[0m     \u001B[38;5;28;01mexcept\u001B[39;00m timeout:\n\u001B[0;32m    710\u001B[0m         \u001B[38;5;28mself\u001B[39m\u001B[38;5;241m.\u001B[39m_timeout_occurred \u001B[38;5;241m=\u001B[39m \u001B[38;5;28;01mTrue\u001B[39;00m\n",
      "File \u001B[1;32mC:\\ProgramData\\anaconda3\\Lib\\ssl.py:1252\u001B[0m, in \u001B[0;36mSSLSocket.recv_into\u001B[1;34m(self, buffer, nbytes, flags)\u001B[0m\n\u001B[0;32m   1248\u001B[0m     \u001B[38;5;28;01mif\u001B[39;00m flags \u001B[38;5;241m!=\u001B[39m \u001B[38;5;241m0\u001B[39m:\n\u001B[0;32m   1249\u001B[0m         \u001B[38;5;28;01mraise\u001B[39;00m \u001B[38;5;167;01mValueError\u001B[39;00m(\n\u001B[0;32m   1250\u001B[0m           \u001B[38;5;124m\"\u001B[39m\u001B[38;5;124mnon-zero flags not allowed in calls to recv_into() on \u001B[39m\u001B[38;5;132;01m%s\u001B[39;00m\u001B[38;5;124m\"\u001B[39m \u001B[38;5;241m%\u001B[39m\n\u001B[0;32m   1251\u001B[0m           \u001B[38;5;28mself\u001B[39m\u001B[38;5;241m.\u001B[39m\u001B[38;5;18m__class__\u001B[39m)\n\u001B[1;32m-> 1252\u001B[0m     \u001B[38;5;28;01mreturn\u001B[39;00m \u001B[38;5;28mself\u001B[39m\u001B[38;5;241m.\u001B[39mread(nbytes, buffer)\n\u001B[0;32m   1253\u001B[0m \u001B[38;5;28;01melse\u001B[39;00m:\n\u001B[0;32m   1254\u001B[0m     \u001B[38;5;28;01mreturn\u001B[39;00m \u001B[38;5;28msuper\u001B[39m()\u001B[38;5;241m.\u001B[39mrecv_into(buffer, nbytes, flags)\n",
      "File \u001B[1;32mC:\\ProgramData\\anaconda3\\Lib\\ssl.py:1104\u001B[0m, in \u001B[0;36mSSLSocket.read\u001B[1;34m(self, len, buffer)\u001B[0m\n\u001B[0;32m   1102\u001B[0m \u001B[38;5;28;01mtry\u001B[39;00m:\n\u001B[0;32m   1103\u001B[0m     \u001B[38;5;28;01mif\u001B[39;00m buffer \u001B[38;5;129;01mis\u001B[39;00m \u001B[38;5;129;01mnot\u001B[39;00m \u001B[38;5;28;01mNone\u001B[39;00m:\n\u001B[1;32m-> 1104\u001B[0m         \u001B[38;5;28;01mreturn\u001B[39;00m \u001B[38;5;28mself\u001B[39m\u001B[38;5;241m.\u001B[39m_sslobj\u001B[38;5;241m.\u001B[39mread(\u001B[38;5;28mlen\u001B[39m, buffer)\n\u001B[0;32m   1105\u001B[0m     \u001B[38;5;28;01melse\u001B[39;00m:\n\u001B[0;32m   1106\u001B[0m         \u001B[38;5;28;01mreturn\u001B[39;00m \u001B[38;5;28mself\u001B[39m\u001B[38;5;241m.\u001B[39m_sslobj\u001B[38;5;241m.\u001B[39mread(\u001B[38;5;28mlen\u001B[39m)\n",
      "\u001B[1;31mKeyboardInterrupt\u001B[0m: "
     ]
    }
   ],
   "execution_count": 43
  },
  {
   "metadata": {
    "ExecuteTime": {
     "end_time": "2024-10-19T18:08:47.120533Z",
     "start_time": "2024-10-19T18:08:47.109807Z"
    }
   },
   "cell_type": "code",
   "source": [
    "csv_vivienda = df_vivienda.to_csv('../structured/vivienda.csv', index=False)\n",
    "csv_localizacion = df_localizacion.to_csv('../structured/location.csv', index=False)"
   ],
   "id": "f95ffb085cb053",
   "outputs": [],
   "execution_count": 44
  },
  {
   "metadata": {
    "ExecuteTime": {
     "end_time": "2024-10-19T18:08:59.193761Z",
     "start_time": "2024-10-19T18:08:59.175523Z"
    }
   },
   "cell_type": "code",
   "source": "df_vivienda.describe()",
   "id": "6e1bee45fbc934dd",
   "outputs": [
    {
     "data": {
      "text/plain": [
       "              size         price      rooms   bathrooms\n",
       "count   200.000000  2.000000e+02  200.00000  200.000000\n",
       "mean    295.510000  1.908871e+06    3.87000    3.485000\n",
       "std     290.961843  1.404916e+06    1.70223    1.878141\n",
       "min      37.000000  1.749000e+05    0.00000    1.000000\n",
       "25%     122.500000  8.980000e+05    3.00000    2.000000\n",
       "50%     211.000000  1.472500e+06    4.00000    3.000000\n",
       "75%     349.250000  2.552500e+06    5.00000    5.000000\n",
       "max    1768.000000  6.890000e+06    9.00000   12.000000"
      ],
      "text/html": [
       "<div>\n",
       "<style scoped>\n",
       "    .dataframe tbody tr th:only-of-type {\n",
       "        vertical-align: middle;\n",
       "    }\n",
       "\n",
       "    .dataframe tbody tr th {\n",
       "        vertical-align: top;\n",
       "    }\n",
       "\n",
       "    .dataframe thead th {\n",
       "        text-align: right;\n",
       "    }\n",
       "</style>\n",
       "<table border=\"1\" class=\"dataframe\">\n",
       "  <thead>\n",
       "    <tr style=\"text-align: right;\">\n",
       "      <th></th>\n",
       "      <th>size</th>\n",
       "      <th>price</th>\n",
       "      <th>rooms</th>\n",
       "      <th>bathrooms</th>\n",
       "    </tr>\n",
       "  </thead>\n",
       "  <tbody>\n",
       "    <tr>\n",
       "      <th>count</th>\n",
       "      <td>200.000000</td>\n",
       "      <td>2.000000e+02</td>\n",
       "      <td>200.00000</td>\n",
       "      <td>200.000000</td>\n",
       "    </tr>\n",
       "    <tr>\n",
       "      <th>mean</th>\n",
       "      <td>295.510000</td>\n",
       "      <td>1.908871e+06</td>\n",
       "      <td>3.87000</td>\n",
       "      <td>3.485000</td>\n",
       "    </tr>\n",
       "    <tr>\n",
       "      <th>std</th>\n",
       "      <td>290.961843</td>\n",
       "      <td>1.404916e+06</td>\n",
       "      <td>1.70223</td>\n",
       "      <td>1.878141</td>\n",
       "    </tr>\n",
       "    <tr>\n",
       "      <th>min</th>\n",
       "      <td>37.000000</td>\n",
       "      <td>1.749000e+05</td>\n",
       "      <td>0.00000</td>\n",
       "      <td>1.000000</td>\n",
       "    </tr>\n",
       "    <tr>\n",
       "      <th>25%</th>\n",
       "      <td>122.500000</td>\n",
       "      <td>8.980000e+05</td>\n",
       "      <td>3.00000</td>\n",
       "      <td>2.000000</td>\n",
       "    </tr>\n",
       "    <tr>\n",
       "      <th>50%</th>\n",
       "      <td>211.000000</td>\n",
       "      <td>1.472500e+06</td>\n",
       "      <td>4.00000</td>\n",
       "      <td>3.000000</td>\n",
       "    </tr>\n",
       "    <tr>\n",
       "      <th>75%</th>\n",
       "      <td>349.250000</td>\n",
       "      <td>2.552500e+06</td>\n",
       "      <td>5.00000</td>\n",
       "      <td>5.000000</td>\n",
       "    </tr>\n",
       "    <tr>\n",
       "      <th>max</th>\n",
       "      <td>1768.000000</td>\n",
       "      <td>6.890000e+06</td>\n",
       "      <td>9.00000</td>\n",
       "      <td>12.000000</td>\n",
       "    </tr>\n",
       "  </tbody>\n",
       "</table>\n",
       "</div>"
      ]
     },
     "execution_count": 45,
     "metadata": {},
     "output_type": "execute_result"
    }
   ],
   "execution_count": 45
  }
 ],
 "metadata": {
  "kernelspec": {
   "display_name": "Python 3",
   "language": "python",
   "name": "python3"
  },
  "language_info": {
   "codemirror_mode": {
    "name": "ipython",
    "version": 2
   },
   "file_extension": ".py",
   "mimetype": "text/x-python",
   "name": "python",
   "nbconvert_exporter": "python",
   "pygments_lexer": "ipython2",
   "version": "2.7.6"
  }
 },
 "nbformat": 4,
 "nbformat_minor": 5
}
