{
 "cells": [
  {
   "cell_type": "markdown",
   "id": "72efc2ab19b60b5d",
   "metadata": {},
   "source": [
    "# Import de librerias"
   ]
  },
  {
   "cell_type": "code",
   "execution_count": 47,
   "id": "c3e9ada3d1db420f",
   "metadata": {
    "ExecuteTime": {
     "end_time": "2024-10-19T18:53:02.634120Z",
     "start_time": "2024-10-19T18:53:02.611188Z"
    }
   },
   "outputs": [],
   "source": [
    "import http.client\n",
    "import json\n",
    "import pandas as pd\n",
    "from dotenv import load_dotenv\n",
    "import os"
   ]
  },
  {
   "cell_type": "markdown",
   "id": "4360c529bd9ca1a9",
   "metadata": {},
   "source": [
    "# Conexion con la API"
   ]
  },
  {
   "cell_type": "code",
   "execution_count": 50,
   "id": "69b23acf71821281",
   "metadata": {
    "ExecuteTime": {
     "end_time": "2024-10-19T18:53:53.589255Z",
     "start_time": "2024-10-19T18:53:53.560521Z"
    }
   },
   "outputs": [],
   "source": [
    "# Carga las variables de entorno\n",
    "load_dotenv()\n",
    "\n",
    "# Obtén la API key\n",
    "api_key = os.getenv('API_KEY')\n",
    "\n",
    "conn = http.client.HTTPSConnection(\"idealista7.p.rapidapi.com\")\n",
    "\n",
    "headers = {\n",
    "    'x-rapidapi-key': api_key,\n",
    "    'x-rapidapi-host': \"idealista7.p.rapidapi.com\"\n",
    "}"
   ]
  },
  {
   "cell_type": "code",
   "execution_count": 51,
   "id": "d897f3824723dfe4",
   "metadata": {
    "ExecuteTime": {
     "end_time": "2024-10-19T18:53:55.452698Z",
     "start_time": "2024-10-19T18:53:55.447513Z"
    }
   },
   "outputs": [
    {
     "name": "stdout",
     "output_type": "stream",
     "text": [
      "711a0e1079msh680a1c4987a2fe5p1621eejsnce62b684fc16\n"
     ]
    }
   ],
   "source": [
    "print(api_key)"
   ]
  },
  {
   "cell_type": "markdown",
   "id": "49a8d47e449dd3c5",
   "metadata": {},
   "source": [
    "# Carga de datos"
   ]
  },
  {
   "cell_type": "code",
   "execution_count": null,
   "id": "fbc64073a55e7480",
   "metadata": {
    "ExecuteTime": {
     "end_time": "2024-10-19T18:55:28.130108Z",
     "start_time": "2024-10-19T18:54:24.669711Z"
    }
   },
   "outputs": [],
   "source": [
    "df_vivienda = pd.DataFrame()\n",
    "df_localizacion = pd.DataFrame()\n",
    "\n",
    "for i in range(1,40):\n",
    "    conn.request(\"GET\", f\"/listhomes?order=relevance&operation=sale&locationId=0-EU-ES-28-07-001-079&locationName=Madrid&numPage={i}&maxItems=40&location=es&locale=en\", headers=headers)\n",
    "\n",
    "    res = conn.getresponse()\n",
    "    json_data = res.read()\n",
    "\n",
    "    if json_data:\n",
    "        try:\n",
    "            data_dict = json.loads(json_data)\n",
    "        except json.JSONDecodeError as e:\n",
    "            print(\"Error al decodificar JSON:\", e)\n",
    "    else:\n",
    "        print(\"La respuesta está vacía.\")\n",
    "        break\n",
    "        \n",
    "    \n",
    "    # Navegamos sobre el JSON\n",
    "    if 'elementList' in data_dict:  # Reemplaza 'listings' con la clave correcta si es diferente\n",
    "        data_list = data_dict['elementList']  # Accede a la lista de propiedades\n",
    "    else:\n",
    "        print(\"La clave 'listings' no se encuentra en el JSON.\")\n",
    "        data_list = []\n",
    "\n",
    "    # Extraer solo los campos seleccionados y convertir en un DataFrame\n",
    "    selected_fields = [\n",
    "        {\n",
    "            \"propertyCode\": item.get(\"propertyCode\"),\n",
    "            \"url\": item.get(\"url\"),\n",
    "            \"address\": item.get(\"address\"),\n",
    "            \"size\": item.get(\"size\"),\n",
    "            \"floor\": item.get(\"floor\"),\n",
    "            \"province\": item.get(\"province\"),\n",
    "            \"municipality\": item.get(\"municipality\"),\n",
    "            \"district\": item.get(\"district\"),\n",
    "            \"price\": item.get(\"price\"),\n",
    "            \"rooms\": item.get(\"rooms\"),\n",
    "            \"hasLift\": item.get(\"hasLift\"),\n",
    "            \"hasParking\": item.get(\"parkingSpace\", {}).get(\"hasParkingSpace\"),\n",
    "            \"hasTerrace\": item.get(\"features\", {}).get(\"hasTerrace\"),\n",
    "            \"hasSwimmingPool\": item.get(\"features\", {}).get(\"hasSwimmingPool\"),\n",
    "            \"hasAirConditioning\": item.get(\"features\", {}).get(\"hasAirConditioning\"),\n",
    "            \"hasGarden\": item.get(\"features\", {}).get(\"hasGarden\"),\n",
    "            \"bathrooms\": item.get(\"bathrooms\"),\n",
    "            \"latitude\": item.get(\"latitude\"),\n",
    "            \"longitude\": item.get(\"longitude\")\n",
    "        }\n",
    "        for item in data_list\n",
    "    ]\n",
    "    \n",
    "    # Convertir la lista de diccionarios en un DataFrame\n",
    "    df = pd.DataFrame(selected_fields)\n",
    "    df_vivienda_aux = df.drop(['latitude', 'longitude'], axis=1)\n",
    "    df_localizacion_aux = df[['propertyCode','latitude', 'longitude']]\n",
    "\n",
    "    df_vivienda = pd.concat([df_vivienda,df_vivienda_aux], axis=0)\n",
    "    df_localizacion = pd.concat([df_localizacion, df_localizacion_aux], axis=0)\n",
    "        "
   ]
  },
  {
   "cell_type": "code",
   "execution_count": 54,
   "id": "f95ffb085cb053",
   "metadata": {
    "ExecuteTime": {
     "end_time": "2024-10-19T18:55:37.623091Z",
     "start_time": "2024-10-19T18:55:37.613786Z"
    }
   },
   "outputs": [],
   "source": [
    "csv_vivienda = df_vivienda.to_csv('../structured/vivienda.csv', index=False)\n",
    "csv_localizacion = df_localizacion.to_csv('../structured/location.csv', index=False)"
   ]
  },
  {
   "cell_type": "code",
   "execution_count": 53,
   "id": "6e1bee45fbc934dd",
   "metadata": {
    "ExecuteTime": {
     "end_time": "2024-10-19T18:55:32.889608Z",
     "start_time": "2024-10-19T18:55:32.872536Z"
    }
   },
   "outputs": [
    {
     "data": {
      "text/html": [
       "<div>\n",
       "<style scoped>\n",
       "    .dataframe tbody tr th:only-of-type {\n",
       "        vertical-align: middle;\n",
       "    }\n",
       "\n",
       "    .dataframe tbody tr th {\n",
       "        vertical-align: top;\n",
       "    }\n",
       "\n",
       "    .dataframe thead th {\n",
       "        text-align: right;\n",
       "    }\n",
       "</style>\n",
       "<table border=\"1\" class=\"dataframe\">\n",
       "  <thead>\n",
       "    <tr style=\"text-align: right;\">\n",
       "      <th></th>\n",
       "      <th>size</th>\n",
       "      <th>price</th>\n",
       "      <th>rooms</th>\n",
       "      <th>bathrooms</th>\n",
       "    </tr>\n",
       "  </thead>\n",
       "  <tbody>\n",
       "    <tr>\n",
       "      <th>count</th>\n",
       "      <td>280.000000</td>\n",
       "      <td>2.800000e+02</td>\n",
       "      <td>280.000000</td>\n",
       "      <td>280.000000</td>\n",
       "    </tr>\n",
       "    <tr>\n",
       "      <th>mean</th>\n",
       "      <td>299.782143</td>\n",
       "      <td>1.956301e+06</td>\n",
       "      <td>3.928571</td>\n",
       "      <td>3.625000</td>\n",
       "    </tr>\n",
       "    <tr>\n",
       "      <th>std</th>\n",
       "      <td>282.223263</td>\n",
       "      <td>1.412405e+06</td>\n",
       "      <td>1.737806</td>\n",
       "      <td>2.005034</td>\n",
       "    </tr>\n",
       "    <tr>\n",
       "      <th>min</th>\n",
       "      <td>37.000000</td>\n",
       "      <td>1.749000e+05</td>\n",
       "      <td>0.000000</td>\n",
       "      <td>1.000000</td>\n",
       "    </tr>\n",
       "    <tr>\n",
       "      <th>25%</th>\n",
       "      <td>119.750000</td>\n",
       "      <td>8.990000e+05</td>\n",
       "      <td>3.000000</td>\n",
       "      <td>2.000000</td>\n",
       "    </tr>\n",
       "    <tr>\n",
       "      <th>50%</th>\n",
       "      <td>224.500000</td>\n",
       "      <td>1.637500e+06</td>\n",
       "      <td>4.000000</td>\n",
       "      <td>3.000000</td>\n",
       "    </tr>\n",
       "    <tr>\n",
       "      <th>75%</th>\n",
       "      <td>359.250000</td>\n",
       "      <td>2.563750e+06</td>\n",
       "      <td>5.000000</td>\n",
       "      <td>5.000000</td>\n",
       "    </tr>\n",
       "    <tr>\n",
       "      <th>max</th>\n",
       "      <td>1768.000000</td>\n",
       "      <td>9.000000e+06</td>\n",
       "      <td>9.000000</td>\n",
       "      <td>13.000000</td>\n",
       "    </tr>\n",
       "  </tbody>\n",
       "</table>\n",
       "</div>"
      ],
      "text/plain": [
       "              size         price       rooms   bathrooms\n",
       "count   280.000000  2.800000e+02  280.000000  280.000000\n",
       "mean    299.782143  1.956301e+06    3.928571    3.625000\n",
       "std     282.223263  1.412405e+06    1.737806    2.005034\n",
       "min      37.000000  1.749000e+05    0.000000    1.000000\n",
       "25%     119.750000  8.990000e+05    3.000000    2.000000\n",
       "50%     224.500000  1.637500e+06    4.000000    3.000000\n",
       "75%     359.250000  2.563750e+06    5.000000    5.000000\n",
       "max    1768.000000  9.000000e+06    9.000000   13.000000"
      ]
     },
     "execution_count": 53,
     "metadata": {},
     "output_type": "execute_result"
    }
   ],
   "source": [
    "df_vivienda.describe()"
   ]
  }
 ],
 "metadata": {
  "kernelspec": {
   "display_name": "Python 3",
   "language": "python",
   "name": "python3"
  },
  "language_info": {
   "codemirror_mode": {
    "name": "ipython",
    "version": 2
   },
   "file_extension": ".py",
   "mimetype": "text/x-python",
   "name": "python",
   "nbconvert_exporter": "python",
   "pygments_lexer": "ipython2",
   "version": "2.7.6"
  }
 },
 "nbformat": 4,
 "nbformat_minor": 5
}
