{
 "cells": [
  {
   "cell_type": "markdown",
   "id": "72efc2ab19b60b5d",
   "metadata": {},
   "source": [
    "# Import de librerias"
   ]
  },
  {
   "cell_type": "code",
   "execution_count": 1,
   "id": "c3e9ada3d1db420f",
   "metadata": {
    "ExecuteTime": {
     "end_time": "2024-10-23T14:55:17.227505Z",
     "start_time": "2024-10-23T14:55:16.602378Z"
    }
   },
   "outputs": [],
   "source": [
    "import http.client\n",
    "import json\n",
    "import pandas as pd\n",
    "from dotenv import load_dotenv\n",
    "import os"
   ]
  },
  {
   "cell_type": "markdown",
   "id": "4360c529bd9ca1a9",
   "metadata": {},
   "source": [
    "# Conexion con la API"
   ]
  },
  {
   "cell_type": "code",
   "execution_count": 5,
   "id": "69b23acf71821281",
   "metadata": {
    "ExecuteTime": {
     "end_time": "2024-10-23T14:58:13.475267Z",
     "start_time": "2024-10-23T14:58:13.456823Z"
    }
   },
   "outputs": [],
   "source": [
    "# Carga las variables de entorno\n",
    "load_dotenv()\n",
    "\n",
    "# Obtén la API key\n",
    "api_key = os.getenv('API_KEY')\n",
    "\n",
    "conn = http.client.HTTPSConnection(\"idealista7.p.rapidapi.com\")\n",
    "\n",
    "headers = {\n",
    "    'x-rapidapi-key': api_key,\n",
    "    'x-rapidapi-host': \"idealista7.p.rapidapi.com\"\n",
    "}"
   ]
  },
  {
   "cell_type": "code",
   "execution_count": 6,
   "id": "fbc64073a55e7480",
   "metadata": {
    "ExecuteTime": {
     "end_time": "2024-10-23T14:59:52.064787Z",
     "start_time": "2024-10-23T14:58:52.841562Z"
    }
   },
   "outputs": [],
   "source": [
    "df_vivienda = pd.DataFrame()\n",
    "df_localizacion = pd.DataFrame()\n",
    "df_descripcion = pd.DataFrame()\n",
    "\n",
    "\n",
    "for i in range(1,40):\n",
    "    conn.request(\"GET\", f\"/listhomes?order=relevance&operation=sale&locationId=0-EU-ES-28-07-001-079&locationName=Madrid&numPage={i}&maxItems=40&location=es&locale=en\", headers=headers)\n",
    "\n",
    "    res = conn.getresponse()\n",
    "    json_data = res.read()\n",
    "\n",
    "    if json_data:\n",
    "        try:\n",
    "            data_dict = json.loads(json_data)\n",
    "        except json.JSONDecodeError as e:\n",
    "            print(\"Error al decodificar JSON:\", e)\n",
    "    else:\n",
    "        print(\"La respuesta está vacía.\")\n",
    "        break\n",
    "        \n",
    "    \n",
    "    # Navegamos sobre el JSON\n",
    "    if 'elementList' in data_dict:  # Reemplaza 'listings' con la clave correcta si es diferente\n",
    "        data_list = data_dict['elementList']  # Accede a la lista de propiedades\n",
    "    else:\n",
    "        print(\"La clave 'listings' no se encuentra en el JSON.\")\n",
    "        data_list = []\n",
    "\n",
    "    # Extraer solo los campos seleccionados y convertir en un DataFrame\n",
    "    selected_fields = [\n",
    "        {\n",
    "            \"propertyCode\": item.get(\"propertyCode\"),\n",
    "            \"url\": item.get(\"url\"),\n",
    "            \"address\": item.get(\"address\"),\n",
    "            \"size\": item.get(\"size\"),\n",
    "            \"floor\": item.get(\"floor\"),\n",
    "            \"province\": item.get(\"province\"),\n",
    "            \"municipality\": item.get(\"municipality\"),\n",
    "            \"district\": item.get(\"district\"),\n",
    "            \"price\": item.get(\"price\"),\n",
    "            \"rooms\": item.get(\"rooms\"),\n",
    "            \"hasLift\": item.get(\"hasLift\"),\n",
    "            \"hasParking\": item.get(\"parkingSpace\", {}).get(\"hasParkingSpace\"),\n",
    "            \"hasTerrace\": item.get(\"features\", {}).get(\"hasTerrace\"),\n",
    "            \"hasSwimmingPool\": item.get(\"features\", {}).get(\"hasSwimmingPool\"),\n",
    "            \"hasAirConditioning\": item.get(\"features\", {}).get(\"hasAirConditioning\"),\n",
    "            \"hasGarden\": item.get(\"features\", {}).get(\"hasGarden\"),\n",
    "            \"bathrooms\": item.get(\"bathrooms\"),\n",
    "            \"latitude\": item.get(\"latitude\"),\n",
    "            \"longitude\": item.get(\"longitude\"),\n",
    "            \"description\": item.get(\"description\"),\n",
    "        }\n",
    "        for item in data_list\n",
    "    ]\n",
    "    \n",
    "    # Convertir la lista de diccionarios en un DataFrame\n",
    "    df = pd.DataFrame(selected_fields)\n",
    "    \n",
    "    df_vivienda_aux = df.drop(['latitude', 'longitude', 'description'], axis=1)\n",
    "    df_localizacion_aux = df[['propertyCode','latitude', 'longitude']]\n",
    "    df_descripcion_aux = df[['propertyCode', 'description']]\n",
    "    \n",
    "    df_vivienda = pd.concat([df_vivienda,df_vivienda_aux], axis=0)\n",
    "    df_localizacion = pd.concat([df_localizacion, df_localizacion_aux], axis=0)\n",
    "    df_descripcion = pd.concat([df_descripcion, df_descripcion_aux], axis=0)\n",
    "        "
   ]
  },
  {
   "cell_type": "markdown",
   "id": "49a8d47e449dd3c5",
   "metadata": {},
   "source": [
    "# Carga de datos"
   ]
  },
  {
   "cell_type": "code",
   "execution_count": 9,
   "id": "f95ffb085cb053",
   "metadata": {
    "ExecuteTime": {
     "end_time": "2024-10-23T15:01:41.668732Z",
     "start_time": "2024-10-23T15:01:41.619389Z"
    }
   },
   "outputs": [],
   "source": [
    "csv_vivienda = df_vivienda.to_csv('../data/structured/vivienda.csv', index=False)\n",
    "csv_localizacion = df_localizacion.to_csv('../data/structured/location.csv', index=False)\n",
    "json_description = df_descripcion.to_json('../data/unstructured/archivo.json', orient='records', indent=4)"
   ]
  },
  {
   "cell_type": "code",
   "execution_count": 10,
   "id": "6e1bee45fbc934dd",
   "metadata": {
    "ExecuteTime": {
     "end_time": "2024-10-23T15:02:18.753025Z",
     "start_time": "2024-10-23T15:02:18.735243Z"
    }
   },
   "outputs": [
    {
     "data": {
      "text/html": [
       "<div>\n",
       "<style scoped>\n",
       "    .dataframe tbody tr th:only-of-type {\n",
       "        vertical-align: middle;\n",
       "    }\n",
       "\n",
       "    .dataframe tbody tr th {\n",
       "        vertical-align: top;\n",
       "    }\n",
       "\n",
       "    .dataframe thead th {\n",
       "        text-align: right;\n",
       "    }\n",
       "</style>\n",
       "<table border=\"1\" class=\"dataframe\">\n",
       "  <thead>\n",
       "    <tr style=\"text-align: right;\">\n",
       "      <th></th>\n",
       "      <th>size</th>\n",
       "      <th>price</th>\n",
       "      <th>rooms</th>\n",
       "      <th>bathrooms</th>\n",
       "    </tr>\n",
       "  </thead>\n",
       "  <tbody>\n",
       "    <tr>\n",
       "      <th>count</th>\n",
       "      <td>1560.000000</td>\n",
       "      <td>1.560000e+03</td>\n",
       "      <td>1560.000000</td>\n",
       "      <td>1560.000000</td>\n",
       "    </tr>\n",
       "    <tr>\n",
       "      <th>mean</th>\n",
       "      <td>208.676282</td>\n",
       "      <td>1.311048e+06</td>\n",
       "      <td>3.332051</td>\n",
       "      <td>2.764103</td>\n",
       "    </tr>\n",
       "    <tr>\n",
       "      <th>std</th>\n",
       "      <td>201.257569</td>\n",
       "      <td>1.190102e+06</td>\n",
       "      <td>1.665019</td>\n",
       "      <td>1.665634</td>\n",
       "    </tr>\n",
       "    <tr>\n",
       "      <th>min</th>\n",
       "      <td>18.000000</td>\n",
       "      <td>3.500000e+04</td>\n",
       "      <td>0.000000</td>\n",
       "      <td>1.000000</td>\n",
       "    </tr>\n",
       "    <tr>\n",
       "      <th>25%</th>\n",
       "      <td>98.000000</td>\n",
       "      <td>5.350000e+05</td>\n",
       "      <td>2.000000</td>\n",
       "      <td>2.000000</td>\n",
       "    </tr>\n",
       "    <tr>\n",
       "      <th>50%</th>\n",
       "      <td>145.000000</td>\n",
       "      <td>9.800000e+05</td>\n",
       "      <td>3.000000</td>\n",
       "      <td>2.000000</td>\n",
       "    </tr>\n",
       "    <tr>\n",
       "      <th>75%</th>\n",
       "      <td>246.250000</td>\n",
       "      <td>1.690000e+06</td>\n",
       "      <td>4.000000</td>\n",
       "      <td>3.000000</td>\n",
       "    </tr>\n",
       "    <tr>\n",
       "      <th>max</th>\n",
       "      <td>1768.000000</td>\n",
       "      <td>1.995000e+07</td>\n",
       "      <td>13.000000</td>\n",
       "      <td>13.000000</td>\n",
       "    </tr>\n",
       "  </tbody>\n",
       "</table>\n",
       "</div>"
      ],
      "text/plain": [
       "              size         price        rooms    bathrooms\n",
       "count  1560.000000  1.560000e+03  1560.000000  1560.000000\n",
       "mean    208.676282  1.311048e+06     3.332051     2.764103\n",
       "std     201.257569  1.190102e+06     1.665019     1.665634\n",
       "min      18.000000  3.500000e+04     0.000000     1.000000\n",
       "25%      98.000000  5.350000e+05     2.000000     2.000000\n",
       "50%     145.000000  9.800000e+05     3.000000     2.000000\n",
       "75%     246.250000  1.690000e+06     4.000000     3.000000\n",
       "max    1768.000000  1.995000e+07    13.000000    13.000000"
      ]
     },
     "execution_count": 10,
     "metadata": {},
     "output_type": "execute_result"
    }
   ],
   "source": [
    "df_vivienda.describe()"
   ]
  }
 ],
 "metadata": {
  "kernelspec": {
   "display_name": "Python 3",
   "language": "python",
   "name": "python3"
  },
  "language_info": {
   "codemirror_mode": {
    "name": "ipython",
    "version": 2
   },
   "file_extension": ".py",
   "mimetype": "text/x-python",
   "name": "python",
   "nbconvert_exporter": "python",
   "pygments_lexer": "ipython2",
   "version": "2.7.6"
  }
 },
 "nbformat": 4,
 "nbformat_minor": 5
}
