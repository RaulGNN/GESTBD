{
 "cells": [
  {
   "metadata": {},
   "cell_type": "raw",
   "source": "!pip install thrift_sasl",
   "id": "5b1883204b5bb638"
  },
  {
   "cell_type": "code",
   "execution_count": null,
   "id": "initial_id",
   "metadata": {
    "collapsed": true
   },
   "outputs": [],
   "source": [
    "!pip install pyhive sqlalchemy\n",
    "!pip install thrift\n",
    "!pip install thrift_sasl\n",
    "!pip install sqlalchemy pyhive thrift"
   ]
  },
  {
   "metadata": {},
   "cell_type": "code",
   "outputs": [],
   "execution_count": null,
   "source": [
    "from sqlalchemy import create_engine\n",
    "import pandas as pd\n",
    "\n",
    "# Crea la conexión usando SQLAlchemy\n",
    "engine = create_engine('hive://hiveserver2:10000/default')\n",
    "\n",
    "# Define tu consulta\n",
    "query = \"\"\"\n",
    "SELECT\n",
    "    p.path,\n",
    "    p.tper AS total_per,\n",
    "    l.tloc AS total_loc\n",
    "FROM\n",
    "    default.wikinerper_count p\n",
    "JOIN\n",
    "    default.wikinerloc_count l\n",
    "ON\n",
    "    p.path = l.path\n",
    "\"\"\"\n",
    "\n",
    "# Ejecuta la consulta y guarda el resultado en un DataFrame\n",
    "df = pd.read_sql(query, engine)\n",
    "\n",
    "# Imprime el DataFrame\n",
    "print(df)\n",
    "\n"
   ],
   "id": "9cfff3d4fb6c7f73"
  }
 ],
 "metadata": {
  "kernelspec": {
   "display_name": "Python 3",
   "language": "python",
   "name": "python3"
  },
  "language_info": {
   "codemirror_mode": {
    "name": "ipython",
    "version": 2
   },
   "file_extension": ".py",
   "mimetype": "text/x-python",
   "name": "python",
   "nbconvert_exporter": "python",
   "pygments_lexer": "ipython2",
   "version": "2.7.6"
  }
 },
 "nbformat": 4,
 "nbformat_minor": 5
}
